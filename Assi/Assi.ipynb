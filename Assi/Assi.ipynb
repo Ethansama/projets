{
 "cells": [
  {
   "cell_type": "code",
   "execution_count": 31,
   "metadata": {},
   "outputs": [],
   "source": [
    "import datetime\n",
    "import locale\n",
    "from tqdm import tqdm\n",
    "import time\n",
    "class Assi:\n",
    "    def __init__(self):\n",
    "        locale.setlocale(locale.LC_TIME, \"fr_FR.UTF-8\")\n",
    "        self.main = datetime.datetime.now()\n",
    "        self.heure = self.main.strftime(\"%H:%M:%S\")\n",
    "        self.day = self.main.strftime(\"%A\")\n",
    "        self.num = self.main.strftime(\"%d\")\n",
    "        self.month = self.main.strftime(\"%m\")\n",
    "        self.year = self.main.strftime('%Y')\n",
    "        self.date = self.num + \" \" + self.day + \" \" + self.month + \" \" + self.year\n",
    "        self.datecal = self.main.strftime(\"%d/%m/%Y\")\n",
    "\n",
    "    def booting(self):\n",
    "        for i in tqdm(range(10)):\n",
    "            time.sleep(0.1)\n",
    "\n",
    "    def user(self):                \n",
    "        user = input(\"Qui es ce ?\")\n",
    "        user = user.lower()\n",
    "        with open('users.txt') as users:\n",
    "            datafile = users.readlines()\n",
    "        for line in datafile:\n",
    "            if user in line:\n",
    "                print(f\"Ho bonjour, {user}, je suis heureux de vous voir de nouveau\")\n",
    "                w = open(f\"{user}.txt\", \"a\")\n",
    "                return user, w\n",
    "        print(\"mmh je ne vous trouve pas laissez moi vous ajouter a ma base de données\")\n",
    "        u = open(\"users.txt\", \"a\")\n",
    "        u.write('\\n')\n",
    "        u.write(user)\n",
    "        u.close()\n",
    "        print(f\"nouvel utilisateur ajouté bienvenue, {user}\")\n",
    "        w = open(f\"{user}.txt\", \"a\")\n",
    "        return user, w\n",
    "\n",
    "    def question(self):\n",
    "        boot = True\n",
    "        user = self.user\n",
    "        while boot == True:\n",
    "                print(\"En quoi puis-je vous aider ?\")\n",
    "                rep = input()\n",
    "                rep = rep.lower()\n",
    "                if rep == \"stop\":\n",
    "                    boot = False"
   ]
  },
  {
   "cell_type": "code",
   "execution_count": 32,
   "metadata": {},
   "outputs": [
    {
     "name": "stderr",
     "output_type": "stream",
     "text": [
      "100%|██████████| 10/10 [00:01<00:00,  9.32it/s]"
     ]
    },
    {
     "name": "stdout",
     "output_type": "stream",
     "text": [
      "24/03/2023\n"
     ]
    },
    {
     "name": "stderr",
     "output_type": "stream",
     "text": [
      "\n"
     ]
    }
   ],
   "source": [
    "assi = Assi()\n",
    "assi.booting()\n",
    "#assi.user()\n",
    "#assi.question()"
   ]
  },
  {
   "cell_type": "code",
   "execution_count": null,
   "metadata": {},
   "outputs": [],
   "source": []
  }
 ],
 "metadata": {
  "kernelspec": {
   "display_name": "Python 3",
   "language": "python",
   "name": "python3"
  },
  "language_info": {
   "codemirror_mode": {
    "name": "ipython",
    "version": 3
   },
   "file_extension": ".py",
   "mimetype": "text/x-python",
   "name": "python",
   "nbconvert_exporter": "python",
   "pygments_lexer": "ipython3",
   "version": "3.10.8"
  },
  "orig_nbformat": 4
 },
 "nbformat": 4,
 "nbformat_minor": 2
}
