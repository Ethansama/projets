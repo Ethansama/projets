{
 "cells": [
  {
   "cell_type": "code",
   "execution_count": 3,
   "metadata": {},
   "outputs": [],
   "source": [
    "import datetime\n",
    "import locale\n",
    "from tqdm import tqdm\n",
    "import time\n",
    "import smtplib, ssl\n",
    "from random import randint\n",
    "class Assi:\n",
    "    def __init__(self):\n",
    "        locale.setlocale(locale.LC_TIME, \"fr_FR.UTF-8\")\n",
    "        self.smtp_address = 'smtp.gmail.com'\n",
    "        self.smtp_port = 465\n",
    "        self.email_address = 'assistantow@gmail.com'\n",
    "        self.email_password = 'Assistant09_'\n",
    "        self.main = datetime.datetime.now()\n",
    "        self.heure = self.main.strftime(\"%H:%M:%S\")\n",
    "        self.day = self.main.strftime(\"%A\")\n",
    "        self.num = self.main.strftime(\"%d\")\n",
    "        self.month = self.main.strftime(\"%m\")\n",
    "        self.year = self.main.strftime('%Y')\n",
    "        self.date = self.num + \" \" + self.day + \" \" + self.month + \" \" + self.year\n",
    "        self.datecal = self.main.strftime(\"%d/%m/%Y\")\n",
    "\n",
    "    def booting(self):\n",
    "        for i in tqdm(range(10),ascii='▖▘▝▗▚▞█'):\n",
    "            time.sleep(0.1)\n",
    "\n",
    "    def user(self):                \n",
    "        user = input(\"Qui es ce ?\")\n",
    "        user = user.lower()\n",
    "        with open('users.txt') as users:\n",
    "            datafile = users.readlines()\n",
    "        for line in datafile:\n",
    "            if user in line:\n",
    "                with open(f'{user}.txt') as user0:\n",
    "                    datafile = user0.readlines()\n",
    "                    for line in datafile:\n",
    "                        if \"Phrase_demarrage : None\" in line:  \n",
    "                            print(f\"Ho bonjour, {user}, je suis heureux de vous voir de nouveau\")\n",
    "                        else:\n",
    "                            w = open(f\"{user}.txt\", \"r\")\n",
    "                            jour = w.readlines(1)\n",
    "                            jour = \"\".join(jour)\n",
    "                            jour = jour.replace(\"Phrase_demarrage : \",\"\")\n",
    "                            print(f\"{jour},{user}\")\n",
    "                return user\n",
    "        print(\"mmh je ne vous trouve pas laissez moi vous ajouter a ma base de données\")\n",
    "        u = open(\"users.txt\", \"a\")\n",
    "        u.write('\\n')\n",
    "        u.write(user)\n",
    "        u.close()\n",
    "        print(f\"nouvel utilisateur ajouté bienvenue, {user}\")\n",
    "        w = open(f\"{user}.txt\", \"a\")\n",
    "        phr = input(\"Voulez vous que je vous dises bonjour d'une certaine façon ?\")\n",
    "        phr = phr.lower()\n",
    "        if phr == \"oui\":\n",
    "            phr2 = input(\"Comment dois je vous dire bonjour ?\")\n",
    "            w.write(f\"Phrase_demarrage : {phr2}\")\n",
    "        if phr == \"non\":\n",
    "            phr2 = None\n",
    "            print(\"pas de problème je ferais le bonjour de base\")\n",
    "            w.write(f\"Phrase_demarrage : {phr2}\")\n",
    "        mdp = input(\"Ecrivez votre mot de passe\")\n",
    "        w.write(f\"mot_de_passe : {mdp}\")\n",
    "        mail = input(\"ecrivez votre mail pour recevoir votre code de validation\")\n",
    "        w.write(f\"email : {mail}\")\n",
    "        w.close()\n",
    "        repa = False\n",
    "        email_receiver = mail\n",
    "        context = ssl.create_default_context()\n",
    "        with smtplib.SMTP_SSL(self.smtp_address, self.smtp_port, context=context) as server:  \n",
    "            server.login(self.email_address, self.email_password)\n",
    "            u = \"\"\n",
    "            for k in range(4):\n",
    "                u = u + str(randint(1,9))\n",
    "            server.sendmail(self.email_address, email_receiver, f'votre code est {u}')\n",
    "            while repa == False:\n",
    "                pop = input('entrez votre code reçu par mail')\n",
    "                if pop == u:\n",
    "                    repa = True\n",
    "                else:\n",
    "                    print('mauvais code')\n",
    "            return user\n",
    "\n",
    "    def question(self):\n",
    "        boot = True\n",
    "        while boot == True:\n",
    "                print(\"En quoi puis-je vous aider ?\")\n",
    "                rep = input()\n",
    "                rep = rep.lower()\n",
    "                if rep == \"stop\":\n",
    "                    boot = False\n",
    "                elif rep == 'deconnexion':\n",
    "                    self.user()\n",
    "    \n",
    "    def allumage(self):\n",
    "        self.booting()\n",
    "        self.user()\n",
    "        self.question()"
   ]
  },
  {
   "cell_type": "code",
   "execution_count": 4,
   "metadata": {},
   "outputs": [
    {
     "name": "stderr",
     "output_type": "stream",
     "text": [
      "100%|██████████| 10/10 [00:01<00:00,  9.05it/s]\n"
     ]
    },
    {
     "name": "stdout",
     "output_type": "stream",
     "text": [
      "mmh je ne vous trouve pas laissez moi vous ajouter a ma base de données\n",
      "nouvel utilisateur ajouté bienvenue, ryan\n",
      "pas de problème je ferais le bonjour de base\n"
     ]
    },
    {
     "ename": "SMTPAuthenticationError",
     "evalue": "(535, b'5.7.8 Username and Password not accepted. Learn more at\\n5.7.8  https://support.google.com/mail/?p=BadCredentials r10-20020adfce8a000000b002cefcac0c62sm30858103wrn.9 - gsmtp')",
     "output_type": "error",
     "traceback": [
      "\u001b[1;31m---------------------------------------------------------------------------\u001b[0m",
      "\u001b[1;31mSMTPAuthenticationError\u001b[0m                   Traceback (most recent call last)",
      "\u001b[1;32mp:\\Assi\\Assi.ipynb Cell 2\u001b[0m in \u001b[0;36m<cell line: 2>\u001b[1;34m()\u001b[0m\n\u001b[0;32m      <a href='vscode-notebook-cell:/p%3A/Assi/Assi.ipynb#W1sZmlsZQ%3D%3D?line=0'>1</a>\u001b[0m assi \u001b[39m=\u001b[39m Assi()\n\u001b[1;32m----> <a href='vscode-notebook-cell:/p%3A/Assi/Assi.ipynb#W1sZmlsZQ%3D%3D?line=1'>2</a>\u001b[0m assi\u001b[39m.\u001b[39;49mallumage()\n",
      "\u001b[1;32mp:\\Assi\\Assi.ipynb Cell 2\u001b[0m in \u001b[0;36mAssi.allumage\u001b[1;34m(self)\u001b[0m\n\u001b[0;32m     <a href='vscode-notebook-cell:/p%3A/Assi/Assi.ipynb#W1sZmlsZQ%3D%3D?line=94'>95</a>\u001b[0m \u001b[39mdef\u001b[39;00m \u001b[39mallumage\u001b[39m(\u001b[39mself\u001b[39m):\n\u001b[0;32m     <a href='vscode-notebook-cell:/p%3A/Assi/Assi.ipynb#W1sZmlsZQ%3D%3D?line=95'>96</a>\u001b[0m     \u001b[39mself\u001b[39m\u001b[39m.\u001b[39mbooting()\n\u001b[1;32m---> <a href='vscode-notebook-cell:/p%3A/Assi/Assi.ipynb#W1sZmlsZQ%3D%3D?line=96'>97</a>\u001b[0m     \u001b[39mself\u001b[39;49m\u001b[39m.\u001b[39;49muser()\n\u001b[0;32m     <a href='vscode-notebook-cell:/p%3A/Assi/Assi.ipynb#W1sZmlsZQ%3D%3D?line=97'>98</a>\u001b[0m     \u001b[39mself\u001b[39m\u001b[39m.\u001b[39mquestion()\n",
      "\u001b[1;32mp:\\Assi\\Assi.ipynb Cell 2\u001b[0m in \u001b[0;36mAssi.user\u001b[1;34m(self)\u001b[0m\n\u001b[0;32m     <a href='vscode-notebook-cell:/p%3A/Assi/Assi.ipynb#W1sZmlsZQ%3D%3D?line=68'>69</a>\u001b[0m context \u001b[39m=\u001b[39m ssl\u001b[39m.\u001b[39mcreate_default_context()\n\u001b[0;32m     <a href='vscode-notebook-cell:/p%3A/Assi/Assi.ipynb#W1sZmlsZQ%3D%3D?line=69'>70</a>\u001b[0m \u001b[39mwith\u001b[39;00m smtplib\u001b[39m.\u001b[39mSMTP_SSL(\u001b[39mself\u001b[39m\u001b[39m.\u001b[39msmtp_address, \u001b[39mself\u001b[39m\u001b[39m.\u001b[39msmtp_port, context\u001b[39m=\u001b[39mcontext) \u001b[39mas\u001b[39;00m server:  \n\u001b[1;32m---> <a href='vscode-notebook-cell:/p%3A/Assi/Assi.ipynb#W1sZmlsZQ%3D%3D?line=70'>71</a>\u001b[0m     server\u001b[39m.\u001b[39;49mlogin(\u001b[39mself\u001b[39;49m\u001b[39m.\u001b[39;49memail_address, \u001b[39mself\u001b[39;49m\u001b[39m.\u001b[39;49memail_password)\n\u001b[0;32m     <a href='vscode-notebook-cell:/p%3A/Assi/Assi.ipynb#W1sZmlsZQ%3D%3D?line=71'>72</a>\u001b[0m     u \u001b[39m=\u001b[39m \u001b[39m\"\u001b[39m\u001b[39m\"\u001b[39m\n\u001b[0;32m     <a href='vscode-notebook-cell:/p%3A/Assi/Assi.ipynb#W1sZmlsZQ%3D%3D?line=72'>73</a>\u001b[0m     \u001b[39mfor\u001b[39;00m k \u001b[39min\u001b[39;00m \u001b[39mrange\u001b[39m(\u001b[39m4\u001b[39m):\n",
      "File \u001b[1;32mc:\\ProgramData\\Anaconda3\\lib\\smtplib.py:750\u001b[0m, in \u001b[0;36mSMTP.login\u001b[1;34m(self, user, password, initial_response_ok)\u001b[0m\n\u001b[0;32m    747\u001b[0m         last_exception \u001b[39m=\u001b[39m e\n\u001b[0;32m    749\u001b[0m \u001b[39m# We could not login successfully.  Return result of last attempt.\u001b[39;00m\n\u001b[1;32m--> 750\u001b[0m \u001b[39mraise\u001b[39;00m last_exception\n",
      "File \u001b[1;32mc:\\ProgramData\\Anaconda3\\lib\\smtplib.py:739\u001b[0m, in \u001b[0;36mSMTP.login\u001b[1;34m(self, user, password, initial_response_ok)\u001b[0m\n\u001b[0;32m    737\u001b[0m method_name \u001b[39m=\u001b[39m \u001b[39m'\u001b[39m\u001b[39mauth_\u001b[39m\u001b[39m'\u001b[39m \u001b[39m+\u001b[39m authmethod\u001b[39m.\u001b[39mlower()\u001b[39m.\u001b[39mreplace(\u001b[39m'\u001b[39m\u001b[39m-\u001b[39m\u001b[39m'\u001b[39m, \u001b[39m'\u001b[39m\u001b[39m_\u001b[39m\u001b[39m'\u001b[39m)\n\u001b[0;32m    738\u001b[0m \u001b[39mtry\u001b[39;00m:\n\u001b[1;32m--> 739\u001b[0m     (code, resp) \u001b[39m=\u001b[39m \u001b[39mself\u001b[39;49m\u001b[39m.\u001b[39;49mauth(\n\u001b[0;32m    740\u001b[0m         authmethod, \u001b[39mgetattr\u001b[39;49m(\u001b[39mself\u001b[39;49m, method_name),\n\u001b[0;32m    741\u001b[0m         initial_response_ok\u001b[39m=\u001b[39;49minitial_response_ok)\n\u001b[0;32m    742\u001b[0m     \u001b[39m# 235 == 'Authentication successful'\u001b[39;00m\n\u001b[0;32m    743\u001b[0m     \u001b[39m# 503 == 'Error: already authenticated'\u001b[39;00m\n\u001b[0;32m    744\u001b[0m     \u001b[39mif\u001b[39;00m code \u001b[39min\u001b[39;00m (\u001b[39m235\u001b[39m, \u001b[39m503\u001b[39m):\n",
      "File \u001b[1;32mc:\\ProgramData\\Anaconda3\\lib\\smtplib.py:662\u001b[0m, in \u001b[0;36mSMTP.auth\u001b[1;34m(self, mechanism, authobject, initial_response_ok)\u001b[0m\n\u001b[0;32m    660\u001b[0m \u001b[39mif\u001b[39;00m code \u001b[39min\u001b[39;00m (\u001b[39m235\u001b[39m, \u001b[39m503\u001b[39m):\n\u001b[0;32m    661\u001b[0m     \u001b[39mreturn\u001b[39;00m (code, resp)\n\u001b[1;32m--> 662\u001b[0m \u001b[39mraise\u001b[39;00m SMTPAuthenticationError(code, resp)\n",
      "\u001b[1;31mSMTPAuthenticationError\u001b[0m: (535, b'5.7.8 Username and Password not accepted. Learn more at\\n5.7.8  https://support.google.com/mail/?p=BadCredentials r10-20020adfce8a000000b002cefcac0c62sm30858103wrn.9 - gsmtp')"
     ]
    }
   ],
   "source": [
    "assi = Assi()\n",
    "assi.allumage()"
   ]
  },
  {
   "cell_type": "code",
   "execution_count": 12,
   "metadata": {},
   "outputs": [
    {
     "name": "stdout",
     "output_type": "stream",
     "text": [
      "1256\n"
     ]
    }
   ],
   "source": [
    "u = \"\"\n",
    "for k in range(4):\n",
    "    u = u + str(randint(1,9))\n",
    "print(u)"
   ]
  },
  {
   "cell_type": "code",
   "execution_count": null,
   "metadata": {},
   "outputs": [],
   "source": []
  },
  {
   "cell_type": "code",
   "execution_count": null,
   "metadata": {},
   "outputs": [],
   "source": []
  }
 ],
 "metadata": {
  "kernelspec": {
   "display_name": "Python 3",
   "language": "python",
   "name": "python3"
  },
  "language_info": {
   "codemirror_mode": {
    "name": "ipython",
    "version": 3
   },
   "file_extension": ".py",
   "mimetype": "text/x-python",
   "name": "python",
   "nbconvert_exporter": "python",
   "pygments_lexer": "ipython3",
   "version": "3.9.12"
  },
  "orig_nbformat": 4
 },
 "nbformat": 4,
 "nbformat_minor": 2
}
